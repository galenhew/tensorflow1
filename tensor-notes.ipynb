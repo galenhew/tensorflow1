{
 "cells": [
  {
   "cell_type": "code",
   "execution_count": null,
   "id": "f5a0bdde",
   "metadata": {},
   "outputs": [],
   "source": []
  },
  {
   "cell_type": "code",
   "execution_count": null,
   "id": "0d7dea7e",
   "metadata": {},
   "outputs": [],
   "source": [
    "pip3 install tensorflow==2.2"
   ]
  },
  {
   "cell_type": "code",
   "execution_count": null,
   "id": "69c7600b",
   "metadata": {},
   "outputs": [],
   "source": [
    "git clone https://github.com/cloudacademy/aiplatform-intro.git"
   ]
  },
  {
   "cell_type": "code",
   "execution_count": null,
   "id": "6fdc5231",
   "metadata": {},
   "outputs": [],
   "source": [
    "cd aiplatform-intro/iris/trainer"
   ]
  },
  {
   "cell_type": "markdown",
   "id": "4725c51e",
   "metadata": {},
   "source": [
    "## train data"
   ]
  },
  {
   "cell_type": "code",
   "execution_count": null,
   "id": "b81ac4d5",
   "metadata": {},
   "outputs": [],
   "source": [
    "python3 iris.py --job-dir export"
   ]
  },
  {
   "cell_type": "markdown",
   "id": "82d90dd3",
   "metadata": {},
   "source": [
    "output:\n",
    "\n",
    "4/4 - test data accuracy\n",
    "\n",
    "1/1 - train data accuracy (much less than test if overfit)"
   ]
  }
 ],
 "metadata": {
  "kernelspec": {
   "display_name": "Python 3",
   "language": "python",
   "name": "python3"
  },
  "language_info": {
   "codemirror_mode": {
    "name": "ipython",
    "version": 3
   },
   "file_extension": ".py",
   "mimetype": "text/x-python",
   "name": "python",
   "nbconvert_exporter": "python",
   "pygments_lexer": "ipython3",
   "version": "3.8.5"
  }
 },
 "nbformat": 4,
 "nbformat_minor": 5
}
