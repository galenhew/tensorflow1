{
 "cells": [
  {
   "cell_type": "code",
   "execution_count": null,
   "id": "8f7b94a6",
   "metadata": {},
   "outputs": [],
   "source": []
  },
  {
   "cell_type": "code",
   "execution_count": null,
   "id": "f1401d20",
   "metadata": {},
   "outputs": [],
   "source": [
    "pip3 install tensorflow==2.2"
   ]
  },
  {
   "cell_type": "code",
   "execution_count": null,
   "id": "99f7d578",
   "metadata": {},
   "outputs": [],
   "source": [
    "git clone https://github.com/cloudacademy/aiplatform-intro.git"
   ]
  },
  {
   "cell_type": "code",
   "execution_count": null,
   "id": "22ee0aef",
   "metadata": {},
   "outputs": [],
   "source": [
    "cd aiplatform-intro/iris/trainer"
   ]
  },
  {
   "cell_type": "markdown",
   "id": "41460560",
   "metadata": {},
   "source": [
    "## train data"
   ]
  },
  {
   "cell_type": "code",
   "execution_count": null,
   "id": "abc80ebb",
   "metadata": {},
   "outputs": [],
   "source": [
    "python3 iris.py --job-dir export"
   ]
  },
  {
   "cell_type": "markdown",
   "id": "8a17c2d2",
   "metadata": {},
   "source": [
    "output:\n",
    "\n",
    "4/4 - test data accuracy\n",
    "\n",
    "1/1 - train data accuracy (much less than test if overfit)"
   ]
  },
  {
   "cell_type": "markdown",
   "id": "49c0a425",
   "metadata": {},
   "source": [
    "## train locally"
   ]
  },
  {
   "cell_type": "markdown",
   "id": "634a9b83",
   "metadata": {},
   "source": [
    "go into parent path of where traning script(iris.py) is (not trainer folder) \n",
    "- tensorflow1/aiplatform-intro/iris/trainer/iris.py\n",
    "\n",
    "cd aiplatform-intro/iris"
   ]
  },
  {
   "cell_type": "markdown",
   "id": "ea2ab3f0",
   "metadata": {},
   "source": [
    "- local \n",
    "    - to train locally\n",
    "- module-name: trainer.iris \n",
    "    - trainer is folder\n",
    "    - iris.py, but drop the .py\n",
    "- job-dir\n",
    "    - the folder that has the results (export folder). in current directory"
   ]
  },
  {
   "cell_type": "code",
   "execution_count": null,
   "id": "d29f0864",
   "metadata": {},
   "outputs": [],
   "source": [
    "gcloud ai-platform local train --module-name trainer.iris --package-path trainer --job-dir export"
   ]
  },
  {
   "cell_type": "markdown",
   "id": "091c34ba",
   "metadata": {},
   "source": [
    "## install GCP SDK"
   ]
  },
  {
   "cell_type": "markdown",
   "id": "2a218cf4",
   "metadata": {},
   "source": [
    "https://cloud.google.com/sdk/docs/install#deb"
   ]
  },
  {
   "cell_type": "markdown",
   "id": "308464b5",
   "metadata": {},
   "source": [
    "## setup GCP"
   ]
  },
  {
   "cell_type": "code",
   "execution_count": 30,
   "id": "e4a945f9",
   "metadata": {},
   "outputs": [],
   "source": [
    "# get project name and store in environment variable\n",
    "# note cannot have space for $=\n",
    "\n",
    "! PROJECT=$(gcloud config list project --format \"value(core.project)\")"
   ]
  },
  {
   "cell_type": "code",
   "execution_count": 1,
   "id": "5cb51852",
   "metadata": {},
   "outputs": [],
   "source": [
    "PROJECT_ID = 'keras1-316117'"
   ]
  },
  {
   "cell_type": "code",
   "execution_count": 2,
   "id": "8cf8d016",
   "metadata": {},
   "outputs": [
    {
     "name": "stdout",
     "output_type": "stream",
     "text": [
      "Updated property [core/project].\r\n"
     ]
    }
   ],
   "source": [
    "! gcloud config set project $PROJECT_ID"
   ]
  },
  {
   "cell_type": "code",
   "execution_count": 3,
   "id": "c330fe15",
   "metadata": {},
   "outputs": [
    {
     "name": "stdout",
     "output_type": "stream",
     "text": [
      "[core]\r\n",
      "project = keras1-316117\r\n",
      "\r\n",
      "Your active configuration is: [default]\r\n"
     ]
    }
   ],
   "source": [
    "# check default project_id\n",
    "! gcloud config list core/project"
   ]
  },
  {
   "cell_type": "markdown",
   "id": "d7b1a975",
   "metadata": {},
   "source": [
    "## bucket"
   ]
  },
  {
   "cell_type": "code",
   "execution_count": 35,
   "id": "592af06d",
   "metadata": {},
   "outputs": [],
   "source": [
    "PROJECT_ID = 'keras1-316117'"
   ]
  },
  {
   "cell_type": "code",
   "execution_count": 38,
   "id": "00989ddf",
   "metadata": {},
   "outputs": [],
   "source": [
    "# exclue country name from region!! i.e. asia-southeast1 (Singapore)\n",
    "\n",
    "BUCKET_NAME= 'keras1-316117_bucket1'\n",
    "REGION= 'asia-southeast1'\n",
    "    "
   ]
  },
  {
   "cell_type": "code",
   "execution_count": 33,
   "id": "ecbe1ae8",
   "metadata": {},
   "outputs": [],
   "source": [
    "# if not bucket made, make bucket via:\n",
    "# gsutil mb -l $REGION $BUCKET"
   ]
  },
  {
   "cell_type": "markdown",
   "id": "f1be2e22",
   "metadata": {},
   "source": [
    "## train model via ai platform"
   ]
  },
  {
   "cell_type": "code",
   "execution_count": 56,
   "id": "2a5e0033",
   "metadata": {},
   "outputs": [
    {
     "ename": "SyntaxError",
     "evalue": "invalid syntax (<ipython-input-56-992908956a87>, line 3)",
     "output_type": "error",
     "traceback": [
      "\u001b[0;36m  File \u001b[0;32m\"<ipython-input-56-992908956a87>\"\u001b[0;36m, line \u001b[0;32m3\u001b[0m\n\u001b[0;31m    gcloud auth login\u001b[0m\n\u001b[0m           ^\u001b[0m\n\u001b[0;31mSyntaxError\u001b[0m\u001b[0;31m:\u001b[0m invalid syntax\n"
     ]
    }
   ],
   "source": [
    "## auth on gcloud\n",
    "\n",
    "gcloud auth login"
   ]
  },
  {
   "cell_type": "markdown",
   "id": "21c15a27",
   "metadata": {},
   "source": [
    "to run tensorflow script on aiplatform, need to package it first.\n",
    "- have __init__.py file in folder"
   ]
  },
  {
   "cell_type": "code",
   "execution_count": 11,
   "id": "6b9e330a",
   "metadata": {},
   "outputs": [
    {
     "name": "stdout",
     "output_type": "stream",
     "text": [
      "061221_1924\n"
     ]
    }
   ],
   "source": [
    "from datetime import datetime\n",
    "dt= datetime.now()\n",
    "dt_str= dt.strftime('%m%d%y_%H%M')\n",
    "print(dt_str)"
   ]
  },
  {
   "cell_type": "code",
   "execution_count": 12,
   "id": "1b59a6c4",
   "metadata": {},
   "outputs": [],
   "source": [
    "# job_name cannot be repeated across jobs. use timestamp to make it unique\n",
    "JOB_NAME = 'iris1_' + dt_str\n",
    "JOB_DIR = 'gs://' + BUCKET_NAME + '/job1'"
   ]
  },
  {
   "cell_type": "code",
   "execution_count": 13,
   "id": "9676b271",
   "metadata": {},
   "outputs": [
    {
     "data": {
      "text/plain": [
       "'iris1_061221_1924'"
      ]
     },
     "execution_count": 13,
     "metadata": {},
     "output_type": "execute_result"
    }
   ],
   "source": [
    "JOB_NAME"
   ]
  },
  {
   "cell_type": "code",
   "execution_count": 47,
   "id": "689aa394",
   "metadata": {},
   "outputs": [
    {
     "data": {
      "text/plain": [
       "'/home/galen/Desktop/tensorflow1'"
      ]
     },
     "execution_count": 47,
     "metadata": {},
     "output_type": "execute_result"
    }
   ],
   "source": [
    "%pwd"
   ]
  },
  {
   "cell_type": "code",
   "execution_count": 52,
   "id": "54c286d0",
   "metadata": {},
   "outputs": [
    {
     "name": "stdout",
     "output_type": "stream",
     "text": [
      "/home/galen/Desktop/tensorflow1/aiplatform-intro/iris\n"
     ]
    }
   ],
   "source": [
    "%cd aiplatform-intro/iris"
   ]
  },
  {
   "cell_type": "code",
   "execution_count": 53,
   "id": "a791601b",
   "metadata": {},
   "outputs": [
    {
     "name": "stdout",
     "output_type": "stream",
     "text": [
      "Job [iris1_061221_1924] submitted successfully.\r\n",
      "Your job is still active. You may view the status of your job with the command\r\n",
      "\r\n",
      "  $ gcloud ai-platform jobs describe iris1_061221_1924\r\n",
      "\r\n",
      "or continue streaming the logs with the command\r\n",
      "\r\n",
      "  $ gcloud ai-platform jobs stream-logs iris1_061221_1924\r\n",
      "jobId: iris1_061221_1924\r\n",
      "state: QUEUED\r\n"
     ]
    }
   ],
   "source": [
    "!gcloud ai-platform jobs submit training $JOB_NAME  --module-name trainer.iris   --package-path trainer   --staging-bucket 'gs://keras1-316117_bucket1' --region $REGION --python-version 3.7   --runtime-version 2.2   --job-dir $JOB_DIR "
   ]
  },
  {
   "cell_type": "code",
   "execution_count": 54,
   "id": "6793ea6c",
   "metadata": {},
   "outputs": [
    {
     "name": "stdout",
     "output_type": "stream",
     "text": [
      "createTime: '2021-06-12T20:33:44Z'\r\n",
      "etag: WnJMbyWs18Y=\r\n",
      "jobId: iris1_061221_1924\r\n",
      "startTime: '2021-06-12T20:39:17Z'\r\n",
      "state: RUNNING\r\n",
      "trainingInput:\r\n",
      "  jobDir: gs://keras1-316117_bucket1/job1\r\n",
      "  packageUris:\r\n",
      "  - gs://keras1-316117_bucket1/iris1_061221_1924/827c1b4382400915233bf183725708023f8636e5f988d42b6431194ebe23e75b/trainer-0.0.0.tar.gz\r\n",
      "  pythonModule: trainer.iris\r\n",
      "  pythonVersion: '3.7'\r\n",
      "  region: asia-southeast1\r\n",
      "  runtimeVersion: '2.2'\r\n",
      "trainingOutput: {}\r\n",
      "\r\n",
      "View job in the Cloud Console at:\r\n",
      "https://console.cloud.google.com/mlengine/jobs/iris1_061221_1924?project=keras1-316117\r\n",
      "\r\n",
      "View logs at:\r\n",
      "https://console.cloud.google.com/logs?resource=ml_job%2Fjob_id%2Firis1_061221_1924&project=keras1-316117\r\n"
     ]
    }
   ],
   "source": [
    "# get info about running job. ran whent it was runing\n",
    "! gcloud ai-platform jobs describe iris1_061221_1924"
   ]
  },
  {
   "cell_type": "code",
   "execution_count": 55,
   "id": "a4085c6c",
   "metadata": {},
   "outputs": [
    {
     "name": "stdout",
     "output_type": "stream",
     "text": [
      "createTime: '2021-06-12T20:33:44Z'\r\n",
      "endTime: '2021-06-12T20:41:49Z'\r\n",
      "etag: DOMtBVi7g68=\r\n",
      "jobId: iris1_061221_1924\r\n",
      "startTime: '2021-06-12T20:39:17Z'\r\n",
      "state: SUCCEEDED\r\n",
      "trainingInput:\r\n",
      "  jobDir: gs://keras1-316117_bucket1/job1\r\n",
      "  packageUris:\r\n",
      "  - gs://keras1-316117_bucket1/iris1_061221_1924/827c1b4382400915233bf183725708023f8636e5f988d42b6431194ebe23e75b/trainer-0.0.0.tar.gz\r\n",
      "  pythonModule: trainer.iris\r\n",
      "  pythonVersion: '3.7'\r\n",
      "  region: asia-southeast1\r\n",
      "  runtimeVersion: '2.2'\r\n",
      "trainingOutput:\r\n",
      "  consumedMLUnits: 0.07\r\n",
      "\r\n",
      "View job in the Cloud Console at:\r\n",
      "https://console.cloud.google.com/mlengine/jobs/iris1_061221_1924?project=keras1-316117\r\n",
      "\r\n",
      "View logs at:\r\n",
      "https://console.cloud.google.com/logs?resource=ml_job%2Fjob_id%2Firis1_061221_1924&project=keras1-316117\r\n"
     ]
    }
   ],
   "source": [
    "# get info about running job: ran after completion. can see completion in log 'task completed'\n",
    "! gcloud ai-platform jobs describe iris1_061221_1924"
   ]
  }
 ],
 "metadata": {
  "kernelspec": {
   "display_name": "Python 3",
   "language": "python",
   "name": "python3"
  },
  "language_info": {
   "codemirror_mode": {
    "name": "ipython",
    "version": 3
   },
   "file_extension": ".py",
   "mimetype": "text/x-python",
   "name": "python",
   "nbconvert_exporter": "python",
   "pygments_lexer": "ipython3",
   "version": "3.8.5"
  }
 },
 "nbformat": 4,
 "nbformat_minor": 5
}
