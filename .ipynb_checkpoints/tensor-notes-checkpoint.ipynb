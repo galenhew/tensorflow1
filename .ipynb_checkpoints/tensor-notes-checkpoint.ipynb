{
 "cells": [
  {
   "cell_type": "code",
   "execution_count": null,
   "id": "8f7b94a6",
   "metadata": {},
   "outputs": [],
   "source": []
  },
  {
   "cell_type": "code",
   "execution_count": null,
   "id": "f1401d20",
   "metadata": {},
   "outputs": [],
   "source": [
    "pip3 install tensorflow==2.2"
   ]
  },
  {
   "cell_type": "code",
   "execution_count": null,
   "id": "99f7d578",
   "metadata": {},
   "outputs": [],
   "source": [
    "git clone https://github.com/cloudacademy/aiplatform-intro.git"
   ]
  },
  {
   "cell_type": "code",
   "execution_count": null,
   "id": "22ee0aef",
   "metadata": {},
   "outputs": [],
   "source": [
    "cd aiplatform-intro/iris/trainer"
   ]
  },
  {
   "cell_type": "markdown",
   "id": "41460560",
   "metadata": {},
   "source": [
    "## train data"
   ]
  },
  {
   "cell_type": "code",
   "execution_count": null,
   "id": "abc80ebb",
   "metadata": {},
   "outputs": [],
   "source": [
    "python3 iris.py --job-dir export"
   ]
  },
  {
   "cell_type": "markdown",
   "id": "8a17c2d2",
   "metadata": {},
   "source": [
    "output:\n",
    "\n",
    "4/4 - test data accuracy\n",
    "\n",
    "1/1 - train data accuracy (much less than test if overfit)"
   ]
  }
 ],
 "metadata": {
  "kernelspec": {
   "display_name": "Python 3",
   "language": "python",
   "name": "python3"
  },
  "language_info": {
   "codemirror_mode": {
    "name": "ipython",
    "version": 3
   },
   "file_extension": ".py",
   "mimetype": "text/x-python",
   "name": "python",
   "nbconvert_exporter": "python",
   "pygments_lexer": "ipython3",
   "version": "3.8.5"
  }
 },
 "nbformat": 4,
 "nbformat_minor": 5
}
